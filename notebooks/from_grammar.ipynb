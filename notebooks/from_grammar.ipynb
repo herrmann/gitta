{
 "cells": [
  {
   "cell_type": "code",
   "execution_count": 1,
   "metadata": {
    "collapsed": true,
    "pycharm": {
     "is_executing": false
    }
   },
   "outputs": [
    {
     "data": {
      "text/plain": "['Hey, world!',\n 'Hello, universe!',\n 'Howdy, world!',\n 'Hey, galaxy!',\n 'Hey, universe!',\n 'Greetings, galaxy!',\n 'Howdy, universe!',\n 'Greetings, universe!',\n 'Hey, solar system!',\n 'Howdy, solar system!',\n 'Howdy, galaxy!',\n 'Hello, solar system!',\n 'Greetings, world!',\n 'Greetings, solar system!',\n 'Hello, world!',\n 'Hello, galaxy!']"
     },
     "metadata": {},
     "output_type": "execute_result",
     "execution_count": 1
    }
   ],
   "source": [
    "import random\n",
    "import grammar_induction\n",
    "from gitta.context_free_grammar import ContextFreeGrammar\n",
    "\n",
    "random.seed(123)\n",
    "\n",
    "rules = {\n",
    "    'origin': '<hello>, <location>!',\n",
    "    'hello': ['Hello', 'Greetings', 'Howdy', 'Hey'],\n",
    "    'location': ['world', 'solar system', 'galaxy', 'universe']\n",
    "}\n",
    "\n",
    "grammar = ContextFreeGrammar.from_string(rules)\n",
    "original_dataset = grammar.generate_all_string()\n",
    "\n",
    "original_dataset"
   ]
  },
  {
   "cell_type": "code",
   "execution_count": 2,
   "outputs": [
    {
     "data": {
      "text/plain": "['Howdy, solar system!',\n 'Hey, galaxy!',\n 'Hey, solar system!',\n 'Greetings, galaxy!',\n 'Howdy, world!',\n 'Greetings, universe!',\n 'Howdy, galaxy!',\n 'Hello, solar system!',\n 'Hey, world!']"
     },
     "metadata": {},
     "output_type": "execute_result",
     "execution_count": 2
    }
   ],
   "source": [
    "dataset = list(original_dataset)\n",
    "\n",
    "# Let's only take half the dataset for induction, to show it is generalising!\n",
    "# You can of course also leave this code out and learn from all examples instead.\n",
    "\n",
    "number_of_training_instances = 9\n",
    "random.shuffle(dataset)\n",
    "dataset = dataset[:number_of_training_instances]\n",
    "dataset"
   ],
   "metadata": {
    "collapsed": false,
    "pycharm": {
     "name": "#%% \n",
     "is_executing": false
    }
   }
  },
  {
   "cell_type": "code",
   "execution_count": 3,
   "outputs": [],
   "source": [
    "reconstructed_grammar = grammar_induction.induce_grammar_using_template_trees(\n",
    "    dataset,\n",
    "    words_per_slot=2,\n",
    "    relative_similarity_threshold=0.2, # This value decides when to join value lists\n",
    ")"
   ],
   "metadata": {
    "collapsed": false,
    "pycharm": {
     "name": "#%%\n",
     "is_executing": false
    }
   }
  },
  {
   "cell_type": "code",
   "execution_count": 4,
   "outputs": [
    {
     "name": "stdout",
     "text": [
      "{\n",
      "    \"origin\": [\n",
      "        \"<A>, <C>!\"\n",
      "    ],\n",
      "    \"A\": [\n",
      "        \"Greetings\",\n",
      "        \"Hello\",\n",
      "        \"Hey\",\n",
      "        \"Howdy\"\n",
      "    ],\n",
      "    \"C\": [\n",
      "        \"galaxy\",\n",
      "        \"solar system\",\n",
      "        \"universe\",\n",
      "        \"world\"\n",
      "    ]\n",
      "}\n"
     ],
     "output_type": "stream"
    }
   ],
   "source": [
    "print(reconstructed_grammar.to_json())\n"
   ],
   "metadata": {
    "collapsed": false,
    "pycharm": {
     "name": "#%%\n",
     "is_executing": false
    }
   }
  },
  {
   "cell_type": "code",
   "execution_count": 5,
   "outputs": [
    {
     "data": {
      "text/plain": "{\"Greetings, galaxy!\",\n \"Greetings, solar system!\",\n \"Greetings, universe!\",\n \"Greetings, world!\",\n \"Hello, galaxy!\",\n \"Hello, solar system!\",\n \"Hello, universe!\",\n \"Hello, world!\",\n \"Hey, galaxy!\",\n \"Hey, solar system!\",\n \"Hey, universe!\",\n \"Hey, world!\",\n \"Howdy, galaxy!\",\n \"Howdy, solar system!\",\n \"Howdy, universe!\",\n \"Howdy, world!\"}"
     },
     "metadata": {},
     "output_type": "execute_result",
     "execution_count": 5
    }
   ],
   "source": [
    "all_generations = reconstructed_grammar.generate_all()\n",
    "all_generations"
   ],
   "metadata": {
    "collapsed": false,
    "pycharm": {
     "name": "#%%\n",
     "is_executing": false
    }
   }
  },
  {
   "cell_type": "code",
   "execution_count": 6,
   "outputs": [
    {
     "name": "stdout",
     "text": [
      "Same grammar: True\n",
      "Same grammar output: True\n"
     ],
     "output_type": "stream"
    }
   ],
   "source": [
    "print(\"Same grammar:\", reconstructed_grammar.is_isomorphic_with(grammar))\n",
    "print(\"Same grammar output:\", {s.to_flat_string() for s in all_generations} == set(original_dataset))"
   ],
   "metadata": {
    "collapsed": false,
    "pycharm": {
     "name": "#%%\n",
     "is_executing": false
    }
   }
  }
 ],
 "metadata": {
  "kernelspec": {
   "display_name": "Python 3",
   "language": "python",
   "name": "python3"
  },
  "language_info": {
   "codemirror_mode": {
    "name": "ipython",
    "version": 2
   },
   "file_extension": ".py",
   "mimetype": "text/x-python",
   "name": "python",
   "nbconvert_exporter": "python",
   "pygments_lexer": "ipython2",
   "version": "2.7.6"
  }
 },
 "nbformat": 4,
 "nbformat_minor": 0
}