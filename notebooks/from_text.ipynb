{
 "cells": [
  {
   "cell_type": "code",
   "execution_count": 1,
   "metadata": {
    "collapsed": true,
    "pycharm": {
     "is_executing": false
    }
   },
   "outputs": [],
   "source": [
    "import random\n",
    "import grammar_induction\n",
    "random.seed(123)\n",
    "\n",
    "dataset = [\"I like my cat and my dog\", \n",
    "           \"I like my dog and my chicken\",\n",
    "           \"Alice the cat is jumping\",\n",
    "           \"Bob the dog is walking\",\n",
    "           \"Cathy the cat is walking\"]"
   ]
  },
  {
   "cell_type": "code",
   "execution_count": 2,
   "outputs": [],
   "source": [
    "reconstructed_grammar = grammar_induction.induce_grammar_using_template_trees(\n",
    "    dataset,\n",
    "    words_per_slot=1,\n",
    "    # relative_similarity_threshold is a value between 0 and 1 that states how much procentual overlap between values of\n",
    "    # two particular non-terminal there should be, before merging them and treating them as the same non-terminal.\n",
    "    relative_similarity_threshold=0.1, \n",
    ")"
   ],
   "metadata": {
    "collapsed": false,
    "pycharm": {
     "name": "#%%\n",
     "is_executing": false
    }
   }
  },
  {
   "cell_type": "code",
   "execution_count": 3,
   "outputs": [
    {
     "name": "stdout",
     "text": [
      "{\n",
      "    \"origin\": [\n",
      "        \"<G> the <C> is <D>\",\n",
      "        \"I like my <C> and my <C>\"\n",
      "    ],\n",
      "    \"C\": [\n",
      "        \"cat\",\n",
      "        \"chicken\",\n",
      "        \"dog\"\n",
      "    ],\n",
      "    \"G\": [\n",
      "        \"Alice\",\n",
      "        \"Bob\",\n",
      "        \"Cathy\"\n",
      "    ],\n",
      "    \"D\": [\n",
      "        \"jumping\",\n",
      "        \"walking\"\n",
      "    ]\n",
      "}\n"
     ],
     "output_type": "stream"
    }
   ],
   "source": [
    "print(reconstructed_grammar.to_json())\n"
   ],
   "metadata": {
    "collapsed": false,
    "pycharm": {
     "name": "#%%\n",
     "is_executing": false
    }
   }
  },
  {
   "cell_type": "code",
   "execution_count": 4,
   "outputs": [
    {
     "data": {
      "text/plain": "{\"Alice the cat is jumping\",\n \"Alice the cat is walking\",\n \"Alice the chicken is jumping\",\n \"Alice the chicken is walking\",\n \"Alice the dog is jumping\",\n \"Alice the dog is walking\",\n \"Bob the cat is jumping\",\n \"Bob the cat is walking\",\n \"Bob the chicken is jumping\",\n \"Bob the chicken is walking\",\n \"Bob the dog is jumping\",\n \"Bob the dog is walking\",\n \"Cathy the cat is jumping\",\n \"Cathy the cat is walking\",\n \"Cathy the chicken is jumping\",\n \"Cathy the chicken is walking\",\n \"Cathy the dog is jumping\",\n \"Cathy the dog is walking\",\n \"I like my cat and my cat\",\n \"I like my cat and my chicken\",\n \"I like my cat and my dog\",\n \"I like my chicken and my cat\",\n \"I like my chicken and my chicken\",\n \"I like my chicken and my dog\",\n \"I like my dog and my cat\",\n \"I like my dog and my chicken\",\n \"I like my dog and my dog\"}"
     },
     "metadata": {},
     "output_type": "execute_result",
     "execution_count": 4
    }
   ],
   "source": [
    "all_generations = reconstructed_grammar.generate_all()\n",
    "all_generations"
   ],
   "metadata": {
    "collapsed": false,
    "pycharm": {
     "name": "#%%\n",
     "is_executing": false
    }
   }
  }
 ],
 "metadata": {
  "kernelspec": {
   "display_name": "Python 3",
   "language": "python",
   "name": "python3"
  },
  "language_info": {
   "codemirror_mode": {
    "name": "ipython",
    "version": 2
   },
   "file_extension": ".py",
   "mimetype": "text/x-python",
   "name": "python",
   "nbconvert_exporter": "python",
   "pygments_lexer": "ipython2",
   "version": "2.7.6"
  },
  "pycharm": {
   "stem_cell": {
    "cell_type": "raw",
    "source": [],
    "metadata": {
     "collapsed": false
    }
   }
  }
 },
 "nbformat": 4,
 "nbformat_minor": 0
}